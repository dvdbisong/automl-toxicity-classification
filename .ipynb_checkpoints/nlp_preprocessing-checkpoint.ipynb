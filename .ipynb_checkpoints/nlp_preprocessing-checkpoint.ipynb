{
 "cells": [
  {
   "cell_type": "markdown",
   "metadata": {
    "colab_type": "text",
    "id": "hmV3aTSHR96U"
   },
   "source": [
    "# Preparing the Dataset for Modeling"
   ]
  },
  {
   "cell_type": "code",
   "execution_count": 15,
   "metadata": {
    "colab": {},
    "colab_type": "code",
    "id": "-G-PWJ5VR2mC"
   },
   "outputs": [],
   "source": [
    "import os\n",
    "import re\n",
    "import pathlib\n",
    "import numpy as np\n",
    "import pandas as pd"
   ]
  },
  {
   "cell_type": "code",
   "execution_count": 2,
   "metadata": {},
   "outputs": [
    {
     "name": "stdout",
     "output_type": "stream",
     "text": [
      "Copying gs://ekabasandbox-lcm/toxicity/train.csv...\n",
      "- [1 files][ 65.6 MiB/ 65.6 MiB]                                                \n",
      "Operation completed over 1 objects/65.6 MiB.                                     \n"
     ]
    }
   ],
   "source": [
    "!gsutil cp gs://ekabasandbox-lcm/toxicity/train.csv ."
   ]
  },
  {
   "cell_type": "code",
   "execution_count": 3,
   "metadata": {
    "colab": {},
    "colab_type": "code",
    "id": "14-7o_01R2mG"
   },
   "outputs": [],
   "source": [
    "data = pd.read_csv('train.csv')"
   ]
  },
  {
   "cell_type": "code",
   "execution_count": 4,
   "metadata": {
    "colab": {},
    "colab_type": "code",
    "id": "oZLYdLqDR2mI",
    "outputId": "ea25a7e2-5f7d-43b1-ab01-8f6337cc21af"
   },
   "outputs": [
    {
     "data": {
      "text/html": [
       "<div>\n",
       "<style scoped>\n",
       "    .dataframe tbody tr th:only-of-type {\n",
       "        vertical-align: middle;\n",
       "    }\n",
       "\n",
       "    .dataframe tbody tr th {\n",
       "        vertical-align: top;\n",
       "    }\n",
       "\n",
       "    .dataframe thead th {\n",
       "        text-align: right;\n",
       "    }\n",
       "</style>\n",
       "<table border=\"1\" class=\"dataframe\">\n",
       "  <thead>\n",
       "    <tr style=\"text-align: right;\">\n",
       "      <th></th>\n",
       "      <th>id</th>\n",
       "      <th>comment_text</th>\n",
       "      <th>toxic</th>\n",
       "      <th>severe_toxic</th>\n",
       "      <th>obscene</th>\n",
       "      <th>threat</th>\n",
       "      <th>insult</th>\n",
       "      <th>identity_hate</th>\n",
       "    </tr>\n",
       "  </thead>\n",
       "  <tbody>\n",
       "    <tr>\n",
       "      <td>0</td>\n",
       "      <td>0000997932d777bf</td>\n",
       "      <td>Explanation\\nWhy the edits made under my usern...</td>\n",
       "      <td>0</td>\n",
       "      <td>0</td>\n",
       "      <td>0</td>\n",
       "      <td>0</td>\n",
       "      <td>0</td>\n",
       "      <td>0</td>\n",
       "    </tr>\n",
       "    <tr>\n",
       "      <td>1</td>\n",
       "      <td>000103f0d9cfb60f</td>\n",
       "      <td>D'aww! He matches this background colour I'm s...</td>\n",
       "      <td>0</td>\n",
       "      <td>0</td>\n",
       "      <td>0</td>\n",
       "      <td>0</td>\n",
       "      <td>0</td>\n",
       "      <td>0</td>\n",
       "    </tr>\n",
       "    <tr>\n",
       "      <td>2</td>\n",
       "      <td>000113f07ec002fd</td>\n",
       "      <td>Hey man, I'm really not trying to edit war. It...</td>\n",
       "      <td>0</td>\n",
       "      <td>0</td>\n",
       "      <td>0</td>\n",
       "      <td>0</td>\n",
       "      <td>0</td>\n",
       "      <td>0</td>\n",
       "    </tr>\n",
       "    <tr>\n",
       "      <td>3</td>\n",
       "      <td>0001b41b1c6bb37e</td>\n",
       "      <td>\"\\nMore\\nI can't make any real suggestions on ...</td>\n",
       "      <td>0</td>\n",
       "      <td>0</td>\n",
       "      <td>0</td>\n",
       "      <td>0</td>\n",
       "      <td>0</td>\n",
       "      <td>0</td>\n",
       "    </tr>\n",
       "    <tr>\n",
       "      <td>4</td>\n",
       "      <td>0001d958c54c6e35</td>\n",
       "      <td>You, sir, are my hero. Any chance you remember...</td>\n",
       "      <td>0</td>\n",
       "      <td>0</td>\n",
       "      <td>0</td>\n",
       "      <td>0</td>\n",
       "      <td>0</td>\n",
       "      <td>0</td>\n",
       "    </tr>\n",
       "  </tbody>\n",
       "</table>\n",
       "</div>"
      ],
      "text/plain": [
       "                 id                                       comment_text  toxic  \\\n",
       "0  0000997932d777bf  Explanation\\nWhy the edits made under my usern...      0   \n",
       "1  000103f0d9cfb60f  D'aww! He matches this background colour I'm s...      0   \n",
       "2  000113f07ec002fd  Hey man, I'm really not trying to edit war. It...      0   \n",
       "3  0001b41b1c6bb37e  \"\\nMore\\nI can't make any real suggestions on ...      0   \n",
       "4  0001d958c54c6e35  You, sir, are my hero. Any chance you remember...      0   \n",
       "\n",
       "   severe_toxic  obscene  threat  insult  identity_hate  \n",
       "0             0        0       0       0              0  \n",
       "1             0        0       0       0              0  \n",
       "2             0        0       0       0              0  \n",
       "3             0        0       0       0              0  \n",
       "4             0        0       0       0              0  "
      ]
     },
     "execution_count": 4,
     "metadata": {},
     "output_type": "execute_result"
    }
   ],
   "source": [
    "data.head()"
   ]
  },
  {
   "cell_type": "code",
   "execution_count": 5,
   "metadata": {
    "colab": {},
    "colab_type": "code",
    "id": "athKJuPER2mN"
   },
   "outputs": [],
   "source": [
    "# add clean column label\n",
    "data['clean'] = (1 - data.iloc[:, 2:].sum(axis=1) >= 1).astype(int)"
   ]
  },
  {
   "cell_type": "code",
   "execution_count": 6,
   "metadata": {
    "colab": {},
    "colab_type": "code",
    "id": "4wwxU_PgR2mP"
   },
   "outputs": [],
   "source": [
    "# merge all other non-clean commnents to toxic\n",
    "data.loc[data['clean'] == 0, ['toxic']] = 1"
   ]
  },
  {
   "cell_type": "code",
   "execution_count": 7,
   "metadata": {
    "colab": {},
    "colab_type": "code",
    "id": "aZ0JJW-OR2mR"
   },
   "outputs": [],
   "source": [
    "# select dataframe of clean examples\n",
    "data_clean = data[data['clean'] == 1].sample(n=20000)"
   ]
  },
  {
   "cell_type": "code",
   "execution_count": 8,
   "metadata": {
    "colab": {},
    "colab_type": "code",
    "id": "AOmkWc5qR2mU"
   },
   "outputs": [],
   "source": [
    "# select dataframe of toxic examples\n",
    "data_toxic = data[data['toxic'] == 1].sample(n=16000)"
   ]
  },
  {
   "cell_type": "code",
   "execution_count": 9,
   "metadata": {
    "colab": {},
    "colab_type": "code",
    "id": "YWsH9LdfR2mW"
   },
   "outputs": [],
   "source": [
    "# join into one dataframe\n",
    "data = pd.concat([data_clean, data_toxic])"
   ]
  },
  {
   "cell_type": "code",
   "execution_count": 10,
   "metadata": {
    "colab": {},
    "colab_type": "code",
    "id": "C3erfpExR2mZ"
   },
   "outputs": [],
   "source": [
    "# remove unused columns\n",
    "data.drop(['severe_toxic', 'obscene', 'threat', 'insult', 'identity_hate'], axis=1, inplace=True)"
   ]
  },
  {
   "cell_type": "code",
   "execution_count": 22,
   "metadata": {
    "colab": {},
    "colab_type": "code",
    "id": "TEYvJEdQR2mc"
   },
   "outputs": [],
   "source": [
    "# data.head(30)"
   ]
  },
  {
   "cell_type": "code",
   "execution_count": 16,
   "metadata": {
    "colab": {},
    "colab_type": "code",
    "id": "NKZY45qrR2mf"
   },
   "outputs": [],
   "source": [
    "for index, row in data.iterrows():\n",
    "    comment_text = re.sub(r'[^\\w\\s]','',row['comment_text']).rstrip().lstrip().strip()\n",
    "    classes = ''\n",
    "    if (row['toxic'] == 1):\n",
    "        classes = 'toxic'\n",
    "    else:\n",
    "        classes = 'clean'\n",
    "    \n",
    "    pathlib.Path(\"./file/{}\".format(classes)).mkdir(parents=True, exist_ok=True) \n",
    "    with open(\"./file/{}/text_{}.txt\".format(classes,index), \"w\") as text_file:\n",
    "        text_file.write(comment_text)"
   ]
  },
  {
   "cell_type": "code",
   "execution_count": 17,
   "metadata": {
    "colab": {},
    "colab_type": "code",
    "id": "Ftp0AnuaR2mh"
   },
   "outputs": [],
   "source": [
    "data_path = []\n",
    "directory = 'file/'"
   ]
  },
  {
   "cell_type": "code",
   "execution_count": 18,
   "metadata": {
    "colab": {},
    "colab_type": "code",
    "id": "AzvM7URiR2ml"
   },
   "outputs": [],
   "source": [
    "# create data csv\n",
    "for subdir, dirs, files in os.walk(directory):\n",
    "    for file in files:\n",
    "        filepath = subdir + os.sep + file\n",
    "\n",
    "        if filepath.endswith(\".txt\"):\n",
    "            entry = ['{}/{}'.format('gs://ekabasandbox-lcm',filepath), os.path.basename(subdir)]\n",
    "            data_path.append(entry)"
   ]
  },
  {
   "cell_type": "code",
   "execution_count": 19,
   "metadata": {
    "colab": {},
    "colab_type": "code",
    "id": "7mjmGeIhR2mr"
   },
   "outputs": [],
   "source": [
    "# convert to Pandas DataFrame\n",
    "data_pd = pd.DataFrame(np.array(data_path))"
   ]
  },
  {
   "cell_type": "code",
   "execution_count": 20,
   "metadata": {
    "colab": {},
    "colab_type": "code",
    "id": "OPqLHmlzR2mu"
   },
   "outputs": [],
   "source": [
    "# export data to csv\n",
    "data_pd.to_csv(\"data.csv\", header=None, index=None)"
   ]
  },
  {
   "cell_type": "code",
   "execution_count": null,
   "metadata": {},
   "outputs": [],
   "source": [
    "# move to cloud storage"
   ]
  },
  {
   "cell_type": "code",
   "execution_count": null,
   "metadata": {},
   "outputs": [
    {
     "name": "stdout",
     "output_type": "stream",
     "text": [
      "Copying file://file/clean/text_63990.txt [Content-Type=text/plain]...\n",
      "Copying file://file/clean/text_24973.txt [Content-Type=text/plain]...           \n",
      "Copying file://file/clean/text_89086.txt [Content-Type=text/plain]...           \n",
      "Copying file://file/clean/text_82623.txt [Content-Type=text/plain]...           \n",
      "/ [4 files][  1.3 KiB/  1.3 KiB]                                                \n",
      "==> NOTE: You are performing a sequence of gsutil operations that may\n",
      "run significantly faster if you instead use gsutil -m cp ... Please\n",
      "see the -m section under \"gsutil help options\" for further information\n",
      "about when gsutil -m can be advantageous.\n",
      "\n",
      "Copying file://file/clean/text_155903.txt [Content-Type=text/plain]...\n",
      "Copying file://file/clean/text_115038.txt [Content-Type=text/plain]...          \n",
      "Copying file://file/clean/text_65887.txt [Content-Type=text/plain]...           \n",
      "Copying file://file/clean/text_95466.txt [Content-Type=text/plain]...           \n",
      "Copying file://file/clean/text_25520.txt [Content-Type=text/plain]...           \n",
      "Copying file://file/clean/text_95682.txt [Content-Type=text/plain]...           \n",
      "Copying file://file/clean/text_6067.txt [Content-Type=text/plain]...            \n",
      "Copying file://file/clean/text_142422.txt [Content-Type=text/plain]...          \n",
      "Copying file://file/clean/text_119177.txt [Content-Type=text/plain]...          \n",
      "Copying file://file/clean/text_97767.txt [Content-Type=text/plain]...           \n",
      "Copying file://file/clean/text_21441.txt [Content-Type=text/plain]...           \n",
      "Copying file://file/clean/text_65868.txt [Content-Type=text/plain]...           \n",
      "Copying file://file/clean/text_33508.txt [Content-Type=text/plain]...           \n",
      "Copying file://file/clean/text_48857.txt [Content-Type=text/plain]...           \n",
      "Copying file://file/clean/text_126849.txt [Content-Type=text/plain]...          \n",
      "Copying file://file/clean/text_55291.txt [Content-Type=text/plain]...           \n",
      "Copying file://file/clean/text_45913.txt [Content-Type=text/plain]...           \n",
      "Copying file://file/clean/text_33589.txt [Content-Type=text/plain]...           \n",
      "Copying file://file/clean/text_70393.txt [Content-Type=text/plain]...           \n",
      "Copying file://file/clean/text_121400.txt [Content-Type=text/plain]...          \n",
      "Copying file://file/clean/text_60316.txt [Content-Type=text/plain]...           \n",
      "Copying file://file/clean/text_130132.txt [Content-Type=text/plain]...          \n",
      "Copying file://file/clean/text_55552.txt [Content-Type=text/plain]...           \n",
      "Copying file://file/clean/text_123909.txt [Content-Type=text/plain]...          \n",
      "Copying file://file/clean/text_51686.txt [Content-Type=text/plain]...           \n",
      "Copying file://file/clean/text_131685.txt [Content-Type=text/plain]...          \n",
      "Copying file://file/clean/text_2336.txt [Content-Type=text/plain]...            \n",
      "Copying file://file/clean/text_97954.txt [Content-Type=text/plain]...           \n",
      "Copying file://file/clean/text_49086.txt [Content-Type=text/plain]...           \n",
      "Copying file://file/clean/text_88549.txt [Content-Type=text/plain]...           \n",
      "Copying file://file/clean/text_131886.txt [Content-Type=text/plain]...          \n",
      "Copying file://file/clean/text_125296.txt [Content-Type=text/plain]...          \n",
      "Copying file://file/clean/text_98808.txt [Content-Type=text/plain]...           \n",
      "Copying file://file/clean/text_51789.txt [Content-Type=text/plain]...           \n",
      "Copying file://file/clean/text_147187.txt [Content-Type=text/plain]...          \n",
      "Copying file://file/clean/text_94769.txt [Content-Type=text/plain]...           \n",
      "Copying file://file/clean/text_92761.txt [Content-Type=text/plain]...           \n",
      "Copying file://file/clean/text_72709.txt [Content-Type=text/plain]...           \n",
      "Copying file://file/clean/text_11404.txt [Content-Type=text/plain]...           \n",
      "Copying file://file/clean/text_77424.txt [Content-Type=text/plain]...           \n",
      "Copying file://file/clean/text_151166.txt [Content-Type=text/plain]...          \n",
      "Copying file://file/clean/text_158348.txt [Content-Type=text/plain]...          \n",
      "Copying file://file/clean/text_137784.txt [Content-Type=text/plain]...          \n",
      "Copying file://file/clean/text_123512.txt [Content-Type=text/plain]...          \n",
      "Copying file://file/clean/text_144080.txt [Content-Type=text/plain]...          \n",
      "Copying file://file/clean/text_25455.txt [Content-Type=text/plain]...           \n",
      "Copying file://file/clean/text_66589.txt [Content-Type=text/plain]...           \n",
      "Copying file://file/clean/text_101117.txt [Content-Type=text/plain]...          \n",
      "Copying file://file/clean/text_88824.txt [Content-Type=text/plain]...           \n",
      "Copying file://file/clean/text_3664.txt [Content-Type=text/plain]...            \n",
      "Copying file://file/clean/text_29789.txt [Content-Type=text/plain]...           \n",
      "Copying file://file/clean/text_83722.txt [Content-Type=text/plain]...           \n",
      "Copying file://file/clean/text_144095.txt [Content-Type=text/plain]...          \n",
      "Copying file://file/clean/text_66686.txt [Content-Type=text/plain]...           \n",
      "Copying file://file/clean/text_86802.txt [Content-Type=text/plain]...           \n",
      "Copying file://file/clean/text_123649.txt [Content-Type=text/plain]...          \n",
      "Copying file://file/clean/text_41767.txt [Content-Type=text/plain]...           \n",
      "Copying file://file/clean/text_89983.txt [Content-Type=text/plain]...           \n",
      "Copying file://file/clean/text_42930.txt [Content-Type=text/plain]...           \n",
      "Copying file://file/clean/text_83142.txt [Content-Type=text/plain]...           \n",
      "Copying file://file/clean/text_121269.txt [Content-Type=text/plain]...          \n",
      "Copying file://file/clean/text_147097.txt [Content-Type=text/plain]...          \n",
      "Copying file://file/clean/text_111312.txt [Content-Type=text/plain]...          \n",
      "Copying file://file/clean/text_1125.txt [Content-Type=text/plain]...            \n",
      "Copying file://file/clean/text_97222.txt [Content-Type=text/plain]...           \n",
      "Copying file://file/clean/text_103680.txt [Content-Type=text/plain]...          \n",
      "Copying file://file/clean/text_157397.txt [Content-Type=text/plain]...          \n",
      "Copying file://file/clean/text_25781.txt [Content-Type=text/plain]...           \n",
      "Copying file://file/clean/text_71480.txt [Content-Type=text/plain]...           \n",
      "Copying file://file/clean/text_24499.txt [Content-Type=text/plain]...           \n",
      "Copying file://file/clean/text_122409.txt [Content-Type=text/plain]...          \n",
      "Copying file://file/clean/text_30502.txt [Content-Type=text/plain]...           \n",
      "Copying file://file/clean/text_119221.txt [Content-Type=text/plain]...          \n",
      "Copying file://file/clean/text_86752.txt [Content-Type=text/plain]...           \n",
      "Copying file://file/clean/text_43011.txt [Content-Type=text/plain]...           \n",
      "Copying file://file/clean/text_100633.txt [Content-Type=text/plain]...          \n",
      "Copying file://file/clean/text_102630.txt [Content-Type=text/plain]...          \n",
      "Copying file://file/clean/text_25100.txt [Content-Type=text/plain]...           \n",
      "Copying file://file/clean/text_12502.txt [Content-Type=text/plain]...           \n",
      "Copying file://file/clean/text_82850.txt [Content-Type=text/plain]...           \n",
      "Copying file://file/clean/text_82764.txt [Content-Type=text/plain]...           \n",
      "Copying file://file/clean/text_522.txt [Content-Type=text/plain]...             \n",
      "Copying file://file/clean/text_32933.txt [Content-Type=text/plain]...           \n",
      "Copying file://file/clean/text_72861.txt [Content-Type=text/plain]...           \n",
      "Copying file://file/clean/text_144911.txt [Content-Type=text/plain]...          \n",
      "Copying file://file/clean/text_88078.txt [Content-Type=text/plain]...           \n",
      "Copying file://file/clean/text_52664.txt [Content-Type=text/plain]...           \n",
      "Copying file://file/clean/text_58202.txt [Content-Type=text/plain]...           \n",
      "Copying file://file/clean/text_126224.txt [Content-Type=text/plain]...          \n",
      "Copying file://file/clean/text_140015.txt [Content-Type=text/plain]...          \n",
      "Copying file://file/clean/text_59788.txt [Content-Type=text/plain]...           \n",
      "Copying file://file/clean/text_9851.txt [Content-Type=text/plain]...            \n",
      "Copying file://file/clean/text_131632.txt [Content-Type=text/plain]...          \n",
      "Copying file://file/clean/text_115651.txt [Content-Type=text/plain]...          \n",
      "Copying file://file/clean/text_92814.txt [Content-Type=text/plain]...           \n",
      "Copying file://file/clean/text_87209.txt [Content-Type=text/plain]...           \n",
      "Copying file://file/clean/text_37957.txt [Content-Type=text/plain]...           \n",
      "Copying file://file/clean/text_141679.txt [Content-Type=text/plain]...          \n",
      "Copying file://file/clean/text_126949.txt [Content-Type=text/plain]...          \n",
      "Copying file://file/clean/text_118495.txt [Content-Type=text/plain]...          \n",
      "Copying file://file/clean/text_48785.txt [Content-Type=text/plain]...           \n",
      "Copying file://file/clean/text_133555.txt [Content-Type=text/plain]...          \n",
      "Copying file://file/clean/text_38244.txt [Content-Type=text/plain]...           \n",
      "Copying file://file/clean/text_71050.txt [Content-Type=text/plain]...           \n",
      "Copying file://file/clean/text_146596.txt [Content-Type=text/plain]...          \n",
      "Copying file://file/clean/text_99578.txt [Content-Type=text/plain]...           \n",
      "Copying file://file/clean/text_138289.txt [Content-Type=text/plain]...          \n",
      "Copying file://file/clean/text_95891.txt [Content-Type=text/plain]...           \n",
      "Copying file://file/clean/text_92004.txt [Content-Type=text/plain]...           \n",
      "Copying file://file/clean/text_54072.txt [Content-Type=text/plain]...           \n",
      "Copying file://file/clean/text_68182.txt [Content-Type=text/plain]...           \n",
      "Copying file://file/clean/text_48107.txt [Content-Type=text/plain]...           \n",
      "Copying file://file/clean/text_61651.txt [Content-Type=text/plain]...           \n",
      "Copying file://file/clean/text_128646.txt [Content-Type=text/plain]...          \n",
      "Copying file://file/clean/text_121259.txt [Content-Type=text/plain]...          \n",
      "Copying file://file/clean/text_136688.txt [Content-Type=text/plain]...          \n",
      "Copying file://file/clean/text_149270.txt [Content-Type=text/plain]...          \n",
      "Copying file://file/clean/text_71924.txt [Content-Type=text/plain]...           \n",
      "Copying file://file/clean/text_27783.txt [Content-Type=text/plain]...           \n",
      "Copying file://file/clean/text_87361.txt [Content-Type=text/plain]...           \n",
      "Copying file://file/clean/text_1267.txt [Content-Type=text/plain]...            \n",
      "Copying file://file/clean/text_144224.txt [Content-Type=text/plain]...          \n",
      "Copying file://file/clean/text_115050.txt [Content-Type=text/plain]...          \n",
      "Copying file://file/clean/text_39939.txt [Content-Type=text/plain]...           \n",
      "Copying file://file/clean/text_73664.txt [Content-Type=text/plain]...           \n",
      "Copying file://file/clean/text_69005.txt [Content-Type=text/plain]...           \n",
      "Copying file://file/clean/text_42867.txt [Content-Type=text/plain]...           \n",
      "Copying file://file/clean/text_45714.txt [Content-Type=text/plain]...           \n",
      "Copying file://file/clean/text_143479.txt [Content-Type=text/plain]...          \n",
      "Copying file://file/clean/text_133324.txt [Content-Type=text/plain]...          \n",
      "Copying file://file/clean/text_91180.txt [Content-Type=text/plain]...           \n",
      "Copying file://file/clean/text_88242.txt [Content-Type=text/plain]...           \n",
      "Copying file://file/clean/text_2078.txt [Content-Type=text/plain]...            \n",
      "Copying file://file/clean/text_30621.txt [Content-Type=text/plain]...           \n",
      "Copying file://file/clean/text_13265.txt [Content-Type=text/plain]...           \n",
      "Copying file://file/clean/text_16176.txt [Content-Type=text/plain]...           \n",
      "Copying file://file/clean/text_140282.txt [Content-Type=text/plain]...          \n",
      "Copying file://file/clean/text_58964.txt [Content-Type=text/plain]...           \n",
      "Copying file://file/clean/text_65973.txt [Content-Type=text/plain]...           \n",
      "Copying file://file/clean/text_18009.txt [Content-Type=text/plain]...           \n",
      "Copying file://file/clean/text_43259.txt [Content-Type=text/plain]...           \n",
      "Copying file://file/clean/text_109426.txt [Content-Type=text/plain]...          \n",
      "Copying file://file/clean/text_89706.txt [Content-Type=text/plain]...           \n",
      "Copying file://file/clean/text_113790.txt [Content-Type=text/plain]...          \n",
      "Copying file://file/clean/text_1427.txt [Content-Type=text/plain]...            \n",
      "Copying file://file/clean/text_68083.txt [Content-Type=text/plain]...           \n",
      "Copying file://file/clean/text_96525.txt [Content-Type=text/plain]...           \n",
      "Copying file://file/clean/text_18608.txt [Content-Type=text/plain]...           \n",
      "Copying file://file/clean/text_149216.txt [Content-Type=text/plain]...          \n",
      "Copying file://file/clean/text_17711.txt [Content-Type=text/plain]...           \n",
      "\\ [153 files][ 51.4 KiB/ 52.1 KiB]    2.8 KiB/s                                 \r"
     ]
    }
   ],
   "source": [
    "!gsutil cp -m -r file data.csv gs://ekabasandbox-lcm/toxicity/"
   ]
  },
  {
   "cell_type": "markdown",
   "metadata": {
    "colab": {},
    "colab_type": "code",
    "id": "MyrlEMe0R2mw"
   },
   "source": [
    "# Finish"
   ]
  }
 ],
 "metadata": {
  "colab": {
   "collapsed_sections": [
    "hmV3aTSHR96U"
   ],
   "name": "nlp_preprocessing.ipynb",
   "provenance": [],
   "version": "0.3.2"
  },
  "kernelspec": {
   "display_name": "Python 3",
   "language": "python",
   "name": "python3"
  },
  "language_info": {
   "codemirror_mode": {
    "name": "ipython",
    "version": 3
   },
   "file_extension": ".py",
   "mimetype": "text/x-python",
   "name": "python",
   "nbconvert_exporter": "python",
   "pygments_lexer": "ipython3",
   "version": "3.5.3"
  }
 },
 "nbformat": 4,
 "nbformat_minor": 4
}
